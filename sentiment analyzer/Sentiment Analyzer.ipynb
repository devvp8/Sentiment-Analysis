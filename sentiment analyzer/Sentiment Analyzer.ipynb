{
 "cells": [
  {
   "cell_type": "code",
   "execution_count": 1,
   "id": "f99fe773",
   "metadata": {},
   "outputs": [
    {
     "name": "stderr",
     "output_type": "stream",
     "text": [
      "[nltk_data] Downloading package wordnet to C:\\Users\\Dev Atul\n",
      "[nltk_data]     Patel\\AppData\\Roaming\\nltk_data...\n",
      "[nltk_data]   Package wordnet is already up-to-date!\n",
      "[nltk_data] Downloading package stopwords to C:\\Users\\Dev Atul\n",
      "[nltk_data]     Patel\\AppData\\Roaming\\nltk_data...\n",
      "[nltk_data]   Package stopwords is already up-to-date!\n",
      "[nltk_data] Downloading package omw-1.4 to C:\\Users\\Dev Atul\n",
      "[nltk_data]     Patel\\AppData\\Roaming\\nltk_data...\n",
      "[nltk_data]   Package omw-1.4 is already up-to-date!\n"
     ]
    }
   ],
   "source": [
    "import pandas as pd\n",
    "import seaborn as sns\n",
    "import re\n",
    "import nltk\n",
    "nltk.download('wordnet')\n",
    "nltk.download('stopwords')\n",
    "nltk.download('omw-1.4')\n",
    "from nltk.corpus import stopwords\n",
    "from nltk.stem import WordNetLemmatizer\n",
    "from sklearn.feature_extraction.text import CountVectorizer\n",
    "from sklearn.ensemble import RandomForestClassifier\n",
    "from sklearn.metrics import accuracy_score,precision_score,recall_score,confusion_matrix"
   ]
  },
  {
   "cell_type": "code",
   "execution_count": 3,
   "id": "e50a972d",
   "metadata": {},
   "outputs": [],
   "source": [
    "df=pd.read_csv(\"C:\\\\Users\\\\Dev Atul Patel\\\\Downloads\\\\train.txt\",delimiter=';',names=['text','label'])"
   ]
  },
  {
   "cell_type": "code",
   "execution_count": 4,
   "id": "66f9ff8a",
   "metadata": {},
   "outputs": [
    {
     "data": {
      "text/html": [
       "<div>\n",
       "<style scoped>\n",
       "    .dataframe tbody tr th:only-of-type {\n",
       "        vertical-align: middle;\n",
       "    }\n",
       "\n",
       "    .dataframe tbody tr th {\n",
       "        vertical-align: top;\n",
       "    }\n",
       "\n",
       "    .dataframe thead th {\n",
       "        text-align: right;\n",
       "    }\n",
       "</style>\n",
       "<table border=\"1\" class=\"dataframe\">\n",
       "  <thead>\n",
       "    <tr style=\"text-align: right;\">\n",
       "      <th></th>\n",
       "      <th>text</th>\n",
       "      <th>label</th>\n",
       "    </tr>\n",
       "  </thead>\n",
       "  <tbody>\n",
       "    <tr>\n",
       "      <th>0</th>\n",
       "      <td>i didnt feel humiliated</td>\n",
       "      <td>sadness</td>\n",
       "    </tr>\n",
       "    <tr>\n",
       "      <th>1</th>\n",
       "      <td>i can go from feeling so hopeless to so damned...</td>\n",
       "      <td>sadness</td>\n",
       "    </tr>\n",
       "    <tr>\n",
       "      <th>2</th>\n",
       "      <td>im grabbing a minute to post i feel greedy wrong</td>\n",
       "      <td>anger</td>\n",
       "    </tr>\n",
       "    <tr>\n",
       "      <th>3</th>\n",
       "      <td>i am ever feeling nostalgic about the fireplac...</td>\n",
       "      <td>love</td>\n",
       "    </tr>\n",
       "    <tr>\n",
       "      <th>4</th>\n",
       "      <td>i am feeling grouchy</td>\n",
       "      <td>anger</td>\n",
       "    </tr>\n",
       "    <tr>\n",
       "      <th>...</th>\n",
       "      <td>...</td>\n",
       "      <td>...</td>\n",
       "    </tr>\n",
       "    <tr>\n",
       "      <th>17995</th>\n",
       "      <td>im having ssa examination tomorrow in the morn...</td>\n",
       "      <td>sadness</td>\n",
       "    </tr>\n",
       "    <tr>\n",
       "      <th>17996</th>\n",
       "      <td>i constantly worry about their fight against n...</td>\n",
       "      <td>joy</td>\n",
       "    </tr>\n",
       "    <tr>\n",
       "      <th>17997</th>\n",
       "      <td>i feel its important to share this info for th...</td>\n",
       "      <td>joy</td>\n",
       "    </tr>\n",
       "    <tr>\n",
       "      <th>17998</th>\n",
       "      <td>i truly feel that if you are passionate enough...</td>\n",
       "      <td>joy</td>\n",
       "    </tr>\n",
       "    <tr>\n",
       "      <th>17999</th>\n",
       "      <td>i feel like i just wanna buy any cute make up ...</td>\n",
       "      <td>joy</td>\n",
       "    </tr>\n",
       "  </tbody>\n",
       "</table>\n",
       "<p>18000 rows × 2 columns</p>\n",
       "</div>"
      ],
      "text/plain": [
       "                                                    text    label\n",
       "0                                i didnt feel humiliated  sadness\n",
       "1      i can go from feeling so hopeless to so damned...  sadness\n",
       "2       im grabbing a minute to post i feel greedy wrong    anger\n",
       "3      i am ever feeling nostalgic about the fireplac...     love\n",
       "4                                   i am feeling grouchy    anger\n",
       "...                                                  ...      ...\n",
       "17995  im having ssa examination tomorrow in the morn...  sadness\n",
       "17996  i constantly worry about their fight against n...      joy\n",
       "17997  i feel its important to share this info for th...      joy\n",
       "17998  i truly feel that if you are passionate enough...      joy\n",
       "17999  i feel like i just wanna buy any cute make up ...      joy\n",
       "\n",
       "[18000 rows x 2 columns]"
      ]
     },
     "execution_count": 4,
     "metadata": {},
     "output_type": "execute_result"
    }
   ],
   "source": [
    "df"
   ]
  },
  {
   "cell_type": "code",
   "execution_count": 7,
   "id": "38ef8447",
   "metadata": {},
   "outputs": [
    {
     "data": {
      "text/plain": [
       "<AxesSubplot: xlabel='label', ylabel='count'>"
      ]
     },
     "execution_count": 7,
     "metadata": {},
     "output_type": "execute_result"
    },
    {
     "data": {
      "image/png": "[encoded data removed]",
      "text/plain": [
       "<Figure size 640x480 with 1 Axes>"
      ]
     },
     "metadata": {},
     "output_type": "display_data"
    }
   ],
   "source": [
    "sns.countplot(x=df.label)"
   ]
  },
  {
   "cell_type": "code",
   "execution_count": 11,
   "id": "87e16645",
   "metadata": {},
   "outputs": [],
   "source": [
    "def custom_encoder(df):\n",
    "    df.replace(to_replace =\"surprise\", value =1, inplace=True)\n",
    "    df.replace(to_replace =\"love\", value =1, inplace=True)\n",
    "    df.replace(to_replace =\"joy\", value =1, inplace=True)\n",
    "    df.replace(to_replace =\"fear\", value =0, inplace=True)\n",
    "    df.replace(to_replace =\"anger\", value =0, inplace=True)\n",
    "    df.replace(to_replace =\"sadness\", value =0, inplace=True)\n",
    "    return df\n",
    "df.label=custom_encoder(df.label)"
   ]
  },
  {
   "cell_type": "code",
   "execution_count": 13,
   "id": "5731af9d",
   "metadata": {},
   "outputs": [
    {
     "data": {
      "text/plain": [
       "<AxesSubplot: xlabel='label', ylabel='count'>"
      ]
     },
     "execution_count": 13,
     "metadata": {},
     "output_type": "execute_result"
    },
    {
     "data": {
      "image/png": "[encoded data removed]",
      "text/plain": [
       "<Figure size 640x480 with 1 Axes>"
      ]
     },
     "metadata": {},
     "output_type": "display_data"
    }
   ],
   "source": [
    "sns.countplot(x=df.label)"
   ]
  },
  {
   "cell_type": "code",
   "execution_count": 14,
   "id": "46b6e34b",
   "metadata": {},
   "outputs": [],
   "source": [
    "lm=WordNetLemmatizer()"
   ]
  },
  {
   "cell_type": "code",
   "execution_count": 15,
   "id": "566919c4",
   "metadata": {},
   "outputs": [],
   "source": [
    "stops=set(stopwords.words('english'))"
   ]
  },
  {
   "cell_type": "code",
   "execution_count": 22,
   "id": "9c205ebc",
   "metadata": {},
   "outputs": [],
   "source": [
    "def text_transformation(df_col):\n",
    "    corpus = []\n",
    "    for item in df_col:\n",
    "        new_item = re.sub('[^a-zA-Z]',' ',str(item)) \n",
    "        new_item = new_item.lower()\n",
    "        new_item = new_item.split()\n",
    "        new_item = [lm.lemmatize(word) for word in new_item if word not in stops]\n",
    "        corpus.append(' '.join(str(x) for x in new_item))\n",
    "    return corpus"
   ]
  },
  {
   "cell_type": "code",
   "execution_count": 23,
   "id": "aa39a833",
   "metadata": {},
   "outputs": [],
   "source": [
    "corpus=text_transformation(df.text)"
   ]
  },
  {
   "cell_type": "code",
   "execution_count": 24,
   "id": "3af3bce2",
   "metadata": {},
   "outputs": [],
   "source": [
    "cv=CountVectorizer(ngram_range=(1,2))\n",
    "traindata=cv.fit_transform(corpus)\n",
    "X=traindata\n",
    "y=df.label"
   ]
  },
  {
   "cell_type": "code",
   "execution_count": null,
   "id": "55629c5a",
   "metadata": {},
   "outputs": [],
   "source": [
    "rfc=RandomForestClassifier(min_samples_split=5, n_estimators=500)\n",
    "rfc.fit(X,y)"
   ]
  },
  {
   "cell_type": "code",
   "execution_count": null,
   "id": "75669ac5",
   "metadata": {},
   "outputs": [],
   "source": []
  },
  {
   "cell_type": "code",
   "execution_count": 26,
   "id": "e007682f",
   "metadata": {},
   "outputs": [],
   "source": [
    "test_df=pd.read_csv(\"C:\\\\Users\\\\Dev Atul Patel\\\\Downloads\\\\train.txt\",delimiter=';',names=['text','label'])"
   ]
  },
  {
   "cell_type": "code",
   "execution_count": null,
   "id": "8d4776ef",
   "metadata": {},
   "outputs": [],
   "source": [
    "X_test,y_test = test_df.text,test_df.label\n",
    "test_df = custom_encoder(y_test)\n",
    "test_corpus = text_transformation(X_test)\n",
    "testdata = cv.transform(test_corpus)\n",
    "predictions = rfc.predict(testdata)"
   ]
  },
  {
   "cell_type": "code",
   "execution_count": null,
   "id": "de22d326",
   "metadata": {},
   "outputs": [],
   "source": [
    "acc_score=accuracy_score(y_test,predictions)\n",
    "print('Accuracy_score:',acc_score)"
   ]
  },
  {
   "cell_type": "code",
   "execution_count": null,
   "id": "aaeb1b51",
   "metadata": {},
   "outputs": [],
   "source": [
    "def expression_check(prediction_input):\n",
    "    if prediction_input == 0:\n",
    "        print(\"Input statement has Negative Sentiment.\")\n",
    "elif prediction_input == 1:\n",
    "        print(\"Input statement has Positive Sentiment.\")\n",
    "else:\n",
    "        print(\"Invalid Statement.\")\n"
   ]
  },
  {
   "cell_type": "code",
   "execution_count": null,
   "id": "3add9876",
   "metadata": {},
   "outputs": [],
   "source": [
    "def sentiment_predictor(input):\n",
    "    input = text_transformation(input)\n",
    "    transformed_input = cv.transform(input)\n",
    "    prediction = rfc.predict(transformed_input)\n",
    "    expression_check(prediction)"
   ]
  },
  {
   "cell_type": "code",
   "execution_count": null,
   "id": "2c8d4c36",
   "metadata": {},
   "outputs": [],
   "source": [
    "input1=[\"worst player\"]\n",
    "input2=[\"good player\"]\n",
    "sentiment_predictor(input1)\n",
    "sentiment_predictor(input2)"
   ]
  }
 ],
 "metadata": {
  "kernelspec": {
   "display_name": "Python 3 (ipykernel)",
   "language": "python",
   "name": "python3"
  },
  "language_info": {
   "codemirror_mode": {
    "name": "ipython",
    "version": 3
   },
   "file_extension": ".py",
   "mimetype": "text/x-python",
   "name": "python",
   "nbconvert_exporter": "python",
   "pygments_lexer": "ipython3",
   "version": "3.9.7"
  }
 },
 "nbformat": 4,
 "nbformat_minor": 5
}
